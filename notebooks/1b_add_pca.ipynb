{
 "cells": [
  {
   "cell_type": "code",
   "execution_count": 1,
   "metadata": {},
   "outputs": [],
   "source": [
    "import anndata\n",
    "\n",
    "mlrepo = anndata.read_h5ad(\"../data/mlrepo5.h5ad\")"
   ]
  },
  {
   "cell_type": "code",
   "execution_count": 2,
   "metadata": {},
   "outputs": [],
   "source": [
    "from sklearn.decomposition import PCA\n",
    "\n",
    "# Add PCA embeddings\n",
    "pca = PCA(n_components=128)\n",
    "X = pca.fit_transform(mlrepo.X)\n",
    "mlrepo.obsm[\"PCA128\"] = X[:, :128]\n",
    "mlrepo.obsm[\"PCA64\"] = X[:, :64]\n",
    "mlrepo.obsm[\"PCA32\"] = X[:, :32]\n",
    "mlrepo.obsm[\"PCA16\"] = X[:, :16]\n",
    "mlrepo.obsm[\"PCA8\"] = X[:, :8]\n",
    "mlrepo.obsm[\"PCA4\"] = X[:, :4]\n",
    "mlrepo.obsm[\"PCA2\"] = X[:, :2]"
   ]
  },
  {
   "cell_type": "code",
   "execution_count": 3,
   "metadata": {},
   "outputs": [
    {
     "name": "stdout",
     "output_type": "stream",
     "text": [
      "2\n",
      "4\n",
      "8\n",
      "16\n",
      "32\n",
      "64\n",
      "128\n"
     ]
    }
   ],
   "source": [
    "# Might as well get some obsp going as well\n",
    "from sklearn.metrics import pairwise_distances\n",
    "\n",
    "for d in [2, 4, 8, 16, 32, 64, 128]:\n",
    "    print(d)\n",
    "    mlrepo.obsp[f\"PCA{d}\"] = pairwise_distances(mlrepo.obsm[f\"PCA{d}\"])"
   ]
  },
  {
   "cell_type": "code",
   "execution_count": 4,
   "metadata": {},
   "outputs": [
    {
     "ename": "",
     "evalue": "",
     "output_type": "error",
     "traceback": [
      "\u001b[1;31mThe Kernel crashed while executing code in the current cell or a previous cell. \n",
      "\u001b[1;31mPlease review the code in the cell(s) to identify a possible cause of the failure. \n",
      "\u001b[1;31mClick <a href='https://aka.ms/vscodeJupyterKernelCrash'>here</a> for more info. \n",
      "\u001b[1;31mView Jupyter <a href='command:jupyter.viewOutput'>log</a> for further details."
     ]
    }
   ],
   "source": [
    "mlrepo.write_h5ad(\"../data/mlrepo6.h5ad\", compression=None)\n"
   ]
  },
  {
   "cell_type": "code",
   "execution_count": null,
   "metadata": {},
   "outputs": [],
   "source": []
  }
 ],
 "metadata": {
  "kernelspec": {
   "display_name": "embedders",
   "language": "python",
   "name": "python3"
  },
  "language_info": {
   "codemirror_mode": {
    "name": "ipython",
    "version": 3
   },
   "file_extension": ".py",
   "mimetype": "text/x-python",
   "name": "python",
   "nbconvert_exporter": "python",
   "pygments_lexer": "ipython3",
   "version": "3.9.0"
  }
 },
 "nbformat": 4,
 "nbformat_minor": 2
}
